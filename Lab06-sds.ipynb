{
 "cells": [
  {
   "cell_type": "markdown",
   "id": "0acdcfe7-a332-4c53-be57-cbccb6aff7f1",
   "metadata": {},
   "source": [
    "## Laboratorio 07: Hunting with Data Science \n",
    "Alexa Bravo  18831  \n",
    "Mayo 02, 2022"
   ]
  },
  {
   "cell_type": "markdown",
   "id": "925fb7a1-4fa3-4b09-ae15-15b4dbef3738",
   "metadata": {},
   "source": [
    "### PARTE 1 - Filtrado y Preprocesamiento"
   ]
  },
  {
   "cell_type": "code",
   "execution_count": 1,
   "id": "1bd7eab5-3d58-45b8-82a1-ea275b9d2cff",
   "metadata": {},
   "outputs": [],
   "source": [
    "#Importamos las librerias \n",
    "import pandas as pd\n",
    "import numpy as np\n",
    "import json\n",
    "import joblib\n",
    "from joblib import load\n",
    "import whois\n",
    "from features import domain_tld_extract\n",
    "from modelo_compara.caracteristicasDerivadas import H_entropy, proporcionVocalesConsonantes, posicionPrimerDigito"
   ]
  },
  {
   "cell_type": "code",
   "execution_count": 2,
   "id": "06c58646-fce1-489a-95bd-58b4150854b7",
   "metadata": {},
   "outputs": [
    {
     "name": "stdout",
     "output_type": "stream",
     "text": [
      "La cantidad total de registros es: 746909\n"
     ]
    }
   ],
   "source": [
    "#Cargamos los datos. \n",
    "file = open('large_eve.json')\n",
    "datos = file.readlines()\n",
    "file.close()\n",
    "\n",
    "#Volvemos un diccionario el json, para poder obtener la cantidad total. \n",
    "registros = [json.loads(fila) for fila in datos if fila]\n",
    "\n",
    "#Vemos la cantidad total de registros del json. \n",
    "print(\"La cantidad total de registros es:\", len(registros))"
   ]
  },
  {
   "cell_type": "code",
   "execution_count": 3,
   "id": "a92946a0-278a-40a6-8ebc-3610bd5713bc",
   "metadata": {},
   "outputs": [],
   "source": [
    "#Función para filtrar solo los DNS.\n",
    "def fDNS(dictionary, search_string):\n",
    "    def iterator_func(x):\n",
    "        if search_string in list(x.keys()):\n",
    "            return True\n",
    "        return False\n",
    "    return list(filter(iterator_func, dictionary))"
   ]
  },
  {
   "cell_type": "code",
   "execution_count": 4,
   "id": "905b52c4-6120-43ea-a1d1-53eeb5dc0f6a",
   "metadata": {},
   "outputs": [
    {
     "name": "stdout",
     "output_type": "stream",
     "text": [
      "La cantidad de registros de DNS es: 15749\n"
     ]
    }
   ],
   "source": [
    "#Mostramos la nueva cantidad de registros filtrados.\n",
    "filtrarDNS = fDNS(registros, \"dns\")\n",
    "print(\"La cantidad de registros de DNS es:\", len(filtrarDNS))"
   ]
  },
  {
   "cell_type": "code",
   "execution_count": 5,
   "id": "c521ff58-026f-45ba-a815-cfb59977d8f4",
   "metadata": {},
   "outputs": [
    {
     "name": "stdout",
     "output_type": "stream",
     "text": [
      "Información de dos registros:\n",
      "[{'timestamp': '2017-07-22T17:33:16.661646-0500', 'flow_id': 1327836194150542, 'pcap_cnt': 22269, 'event_type': 'dns', 'vlan': 110, 'src_ip': '2001:0dbb:0c18:0011:0260:6eff:fe30:0863', 'src_port': 59680, 'dest_ip': '2001:0500:0001:0000:0000:0000:803f:0235', 'dest_port': 53, 'proto': 'UDP', 'dns': {'type': 'query', 'id': 15529, 'rrname': 'api.wunderground.com', 'rrtype': 'A', 'tx_id': 0}}, {'timestamp': '2017-07-22T17:33:24.990320-0500', 'flow_id': 2022925111925872, 'pcap_cnt': 54352, 'event_type': 'dns', 'vlan': 110, 'src_ip': '2001:0dbb:0c18:0011:0260:6eff:fe30:0863', 'src_port': 38051, 'dest_ip': '2001:0500:0003:0000:0000:0000:0000:0042', 'dest_port': 53, 'proto': 'UDP', 'dns': {'type': 'query', 'id': 58278, 'rrname': 'stork79.dropbox.com', 'rrtype': 'A', 'tx_id': 0}}]\n"
     ]
    }
   ],
   "source": [
    "#Mostramos la información de dos registros cualquiera.\n",
    "print(\"Información de dos registros:\")\n",
    "print(filtrarDNS[0:2])"
   ]
  },
  {
   "cell_type": "code",
   "execution_count": 7,
   "id": "61d65f71-fc9f-4af2-9b7b-742600283da0",
   "metadata": {},
   "outputs": [
    {
     "data": {
      "text/html": [
       "<div>\n",
       "<style scoped>\n",
       "    .dataframe tbody tr th:only-of-type {\n",
       "        vertical-align: middle;\n",
       "    }\n",
       "\n",
       "    .dataframe tbody tr th {\n",
       "        vertical-align: top;\n",
       "    }\n",
       "\n",
       "    .dataframe thead th {\n",
       "        text-align: right;\n",
       "    }\n",
       "</style>\n",
       "<table border=\"1\" class=\"dataframe\">\n",
       "  <thead>\n",
       "    <tr style=\"text-align: right;\">\n",
       "      <th></th>\n",
       "      <th>timestamp</th>\n",
       "      <th>flow_id</th>\n",
       "      <th>pcap_cnt</th>\n",
       "      <th>event_type</th>\n",
       "      <th>vlan</th>\n",
       "      <th>src_ip</th>\n",
       "      <th>src_port</th>\n",
       "      <th>dest_ip</th>\n",
       "      <th>dest_port</th>\n",
       "      <th>proto</th>\n",
       "      <th>dns.type</th>\n",
       "      <th>dns.id</th>\n",
       "      <th>dns.rrname</th>\n",
       "      <th>dns.rrtype</th>\n",
       "      <th>dns.tx_id</th>\n",
       "      <th>dns.rcode</th>\n",
       "      <th>dns.ttl</th>\n",
       "      <th>dns.rdata</th>\n",
       "    </tr>\n",
       "  </thead>\n",
       "  <tbody>\n",
       "    <tr>\n",
       "      <th>0</th>\n",
       "      <td>2017-07-22T17:33:16.661646-0500</td>\n",
       "      <td>1327836194150542</td>\n",
       "      <td>22269</td>\n",
       "      <td>dns</td>\n",
       "      <td>110</td>\n",
       "      <td>2001:0dbb:0c18:0011:0260:6eff:fe30:0863</td>\n",
       "      <td>59680</td>\n",
       "      <td>2001:0500:0001:0000:0000:0000:803f:0235</td>\n",
       "      <td>53</td>\n",
       "      <td>UDP</td>\n",
       "      <td>query</td>\n",
       "      <td>15529</td>\n",
       "      <td>api.wunderground.com</td>\n",
       "      <td>A</td>\n",
       "      <td>0.0</td>\n",
       "      <td>NaN</td>\n",
       "      <td>NaN</td>\n",
       "      <td>NaN</td>\n",
       "    </tr>\n",
       "    <tr>\n",
       "      <th>1</th>\n",
       "      <td>2017-07-22T17:33:24.990320-0500</td>\n",
       "      <td>2022925111925872</td>\n",
       "      <td>54352</td>\n",
       "      <td>dns</td>\n",
       "      <td>110</td>\n",
       "      <td>2001:0dbb:0c18:0011:0260:6eff:fe30:0863</td>\n",
       "      <td>38051</td>\n",
       "      <td>2001:0500:0003:0000:0000:0000:0000:0042</td>\n",
       "      <td>53</td>\n",
       "      <td>UDP</td>\n",
       "      <td>query</td>\n",
       "      <td>58278</td>\n",
       "      <td>stork79.dropbox.com</td>\n",
       "      <td>A</td>\n",
       "      <td>0.0</td>\n",
       "      <td>NaN</td>\n",
       "      <td>NaN</td>\n",
       "      <td>NaN</td>\n",
       "    </tr>\n",
       "    <tr>\n",
       "      <th>2</th>\n",
       "      <td>2017-07-22T17:33:27.379891-0500</td>\n",
       "      <td>578544790391795</td>\n",
       "      <td>54519</td>\n",
       "      <td>dns</td>\n",
       "      <td>150</td>\n",
       "      <td>192.168.205.170</td>\n",
       "      <td>31393</td>\n",
       "      <td>192.168.207.4</td>\n",
       "      <td>53</td>\n",
       "      <td>UDP</td>\n",
       "      <td>query</td>\n",
       "      <td>54724</td>\n",
       "      <td>hpca-tier2.office.aol.com.ad.aol.aoltw.net</td>\n",
       "      <td>A</td>\n",
       "      <td>0.0</td>\n",
       "      <td>NaN</td>\n",
       "      <td>NaN</td>\n",
       "      <td>NaN</td>\n",
       "    </tr>\n",
       "    <tr>\n",
       "      <th>3</th>\n",
       "      <td>2017-07-22T17:33:27.380146-0500</td>\n",
       "      <td>578544790391795</td>\n",
       "      <td>54520</td>\n",
       "      <td>dns</td>\n",
       "      <td>150</td>\n",
       "      <td>192.168.207.4</td>\n",
       "      <td>53</td>\n",
       "      <td>192.168.205.170</td>\n",
       "      <td>31393</td>\n",
       "      <td>UDP</td>\n",
       "      <td>answer</td>\n",
       "      <td>54724</td>\n",
       "      <td>hpca-tier2.office.aol.com.ad.aol.aoltw.net</td>\n",
       "      <td>NaN</td>\n",
       "      <td>NaN</td>\n",
       "      <td>NXDOMAIN</td>\n",
       "      <td>NaN</td>\n",
       "      <td>NaN</td>\n",
       "    </tr>\n",
       "    <tr>\n",
       "      <th>4</th>\n",
       "      <td>2017-07-22T17:33:27.380146-0500</td>\n",
       "      <td>578544790391795</td>\n",
       "      <td>54520</td>\n",
       "      <td>dns</td>\n",
       "      <td>150</td>\n",
       "      <td>192.168.207.4</td>\n",
       "      <td>53</td>\n",
       "      <td>192.168.205.170</td>\n",
       "      <td>31393</td>\n",
       "      <td>UDP</td>\n",
       "      <td>answer</td>\n",
       "      <td>54724</td>\n",
       "      <td>&lt;root&gt;</td>\n",
       "      <td>SOA</td>\n",
       "      <td>NaN</td>\n",
       "      <td>NXDOMAIN</td>\n",
       "      <td>20864.0</td>\n",
       "      <td>NaN</td>\n",
       "    </tr>\n",
       "  </tbody>\n",
       "</table>\n",
       "</div>"
      ],
      "text/plain": [
       "                         timestamp           flow_id  pcap_cnt event_type  \\\n",
       "0  2017-07-22T17:33:16.661646-0500  1327836194150542     22269        dns   \n",
       "1  2017-07-22T17:33:24.990320-0500  2022925111925872     54352        dns   \n",
       "2  2017-07-22T17:33:27.379891-0500   578544790391795     54519        dns   \n",
       "3  2017-07-22T17:33:27.380146-0500   578544790391795     54520        dns   \n",
       "4  2017-07-22T17:33:27.380146-0500   578544790391795     54520        dns   \n",
       "\n",
       "   vlan                                   src_ip  src_port  \\\n",
       "0   110  2001:0dbb:0c18:0011:0260:6eff:fe30:0863     59680   \n",
       "1   110  2001:0dbb:0c18:0011:0260:6eff:fe30:0863     38051   \n",
       "2   150                          192.168.205.170     31393   \n",
       "3   150                            192.168.207.4        53   \n",
       "4   150                            192.168.207.4        53   \n",
       "\n",
       "                                   dest_ip  dest_port proto dns.type  dns.id  \\\n",
       "0  2001:0500:0001:0000:0000:0000:803f:0235         53   UDP    query   15529   \n",
       "1  2001:0500:0003:0000:0000:0000:0000:0042         53   UDP    query   58278   \n",
       "2                            192.168.207.4         53   UDP    query   54724   \n",
       "3                          192.168.205.170      31393   UDP   answer   54724   \n",
       "4                          192.168.205.170      31393   UDP   answer   54724   \n",
       "\n",
       "                                   dns.rrname dns.rrtype  dns.tx_id dns.rcode  \\\n",
       "0                        api.wunderground.com          A        0.0       NaN   \n",
       "1                         stork79.dropbox.com          A        0.0       NaN   \n",
       "2  hpca-tier2.office.aol.com.ad.aol.aoltw.net          A        0.0       NaN   \n",
       "3  hpca-tier2.office.aol.com.ad.aol.aoltw.net        NaN        NaN  NXDOMAIN   \n",
       "4                                      <root>        SOA        NaN  NXDOMAIN   \n",
       "\n",
       "   dns.ttl dns.rdata  \n",
       "0      NaN       NaN  \n",
       "1      NaN       NaN  \n",
       "2      NaN       NaN  \n",
       "3      NaN       NaN  \n",
       "4  20864.0       NaN  "
      ]
     },
     "execution_count": 7,
     "metadata": {},
     "output_type": "execute_result"
    }
   ],
   "source": [
    "#Volvemos el json a un dataframe.\n",
    "df = pd.json_normalize(filtrarDNS)\n",
    "df.head(5)"
   ]
  },
  {
   "cell_type": "code",
   "execution_count": 10,
   "id": "6116f05b-6132-4948-a799-0c2111da824d",
   "metadata": {},
   "outputs": [
    {
     "name": "stdout",
     "output_type": "stream",
     "text": [
      "La cantidad de registros de DNA de tipo A es: 2849\n"
     ]
    }
   ],
   "source": [
    "#Filtramos los registros de tipo A. \n",
    "filtrarA = df[df['dns.rrtype'] == 'A']\n",
    "print(\"La cantidad de registros de DNA de tipo A es:\", len(filtrarA))"
   ]
  },
  {
   "cell_type": "code",
   "execution_count": 12,
   "id": "7e49ceb9-dba2-44d1-8d5b-70565d89580b",
   "metadata": {},
   "outputs": [
    {
     "name": "stdout",
     "output_type": "stream",
     "text": [
      "Los registros únicos son: 177\n"
     ]
    }
   ],
   "source": [
    "#Filtramos los dominios únicos\n",
    "filtrarUnicos = filtrarA.drop_duplicates(subset=['dns.rrname'])\n",
    "print(\"Los registros únicos son:\", len(filtrarUnicos))"
   ]
  },
  {
   "cell_type": "code",
   "execution_count": 14,
   "id": "993db5c4-b0c2-4724-97d3-829111d63b3d",
   "metadata": {},
   "outputs": [
    {
     "name": "stderr",
     "output_type": "stream",
     "text": [
      "<ipython-input-14-3c768e00d6f5>:2: SettingWithCopyWarning: \n",
      "A value is trying to be set on a copy of a slice from a DataFrame.\n",
      "Try using .loc[row_indexer,col_indexer] = value instead\n",
      "\n",
      "See the caveats in the documentation: https://pandas.pydata.org/pandas-docs/stable/user_guide/indexing.html#returning-a-view-versus-a-copy\n",
      "  filtrarUnicos['tld_flare'] = filtrarUnicos['dns.rrname'].apply(domain_tld_extract)\n"
     ]
    }
   ],
   "source": [
    "#Obtener el TLD, utilizando flare. \n",
    "filtrarUnicos['tld_flare'] = filtrarUnicos['dns.rrname'].apply(domain_tld_extract)"
   ]
  },
  {
   "cell_type": "code",
   "execution_count": 15,
   "id": "d881f309-0762-4473-bb8a-d805232e889d",
   "metadata": {},
   "outputs": [
    {
     "name": "stderr",
     "output_type": "stream",
     "text": [
      "C:\\Users\\alexa\\anaconda3\\lib\\site-packages\\pandas\\core\\frame.py:4524: SettingWithCopyWarning: \n",
      "A value is trying to be set on a copy of a slice from a DataFrame\n",
      "\n",
      "See the caveats in the documentation: https://pandas.pydata.org/pandas-docs/stable/user_guide/indexing.html#returning-a-view-versus-a-copy\n",
      "  return super().replace(\n",
      "<ipython-input-15-7154d0e77290>:4: SettingWithCopyWarning: \n",
      "A value is trying to be set on a copy of a slice from a DataFrame\n",
      "\n",
      "See the caveats in the documentation: https://pandas.pydata.org/pandas-docs/stable/user_guide/indexing.html#returning-a-view-versus-a-copy\n",
      "  filtrarUnicos.dropna(subset = [\"tld_flare\"], inplace=True)\n"
     ]
    }
   ],
   "source": [
    "filtrarUnicos['tld_flare']\n",
    "nan_value = float(\"NaN\")\n",
    "filtrarUnicos.replace(\"\", nan_value, inplace=True)\n",
    "filtrarUnicos.dropna(subset = [\"tld_flare\"], inplace=True)"
   ]
  },
  {
   "cell_type": "code",
   "execution_count": 16,
   "id": "08c297ed-27a6-4fbc-8683-300b7a58d988",
   "metadata": {},
   "outputs": [
    {
     "data": {
      "text/html": [
       "<div>\n",
       "<style scoped>\n",
       "    .dataframe tbody tr th:only-of-type {\n",
       "        vertical-align: middle;\n",
       "    }\n",
       "\n",
       "    .dataframe tbody tr th {\n",
       "        vertical-align: top;\n",
       "    }\n",
       "\n",
       "    .dataframe thead th {\n",
       "        text-align: right;\n",
       "    }\n",
       "</style>\n",
       "<table border=\"1\" class=\"dataframe\">\n",
       "  <thead>\n",
       "    <tr style=\"text-align: right;\">\n",
       "      <th></th>\n",
       "      <th>timestamp</th>\n",
       "      <th>flow_id</th>\n",
       "      <th>pcap_cnt</th>\n",
       "      <th>event_type</th>\n",
       "      <th>vlan</th>\n",
       "      <th>src_ip</th>\n",
       "      <th>src_port</th>\n",
       "      <th>dest_ip</th>\n",
       "      <th>dest_port</th>\n",
       "      <th>proto</th>\n",
       "      <th>dns.type</th>\n",
       "      <th>dns.id</th>\n",
       "      <th>dns.rrname</th>\n",
       "      <th>dns.rrtype</th>\n",
       "      <th>dns.tx_id</th>\n",
       "      <th>dns.rcode</th>\n",
       "      <th>dns.ttl</th>\n",
       "      <th>dns.rdata</th>\n",
       "      <th>tld_flare</th>\n",
       "    </tr>\n",
       "  </thead>\n",
       "  <tbody>\n",
       "    <tr>\n",
       "      <th>0</th>\n",
       "      <td>2017-07-22T17:33:16.661646-0500</td>\n",
       "      <td>1327836194150542</td>\n",
       "      <td>22269</td>\n",
       "      <td>dns</td>\n",
       "      <td>110</td>\n",
       "      <td>2001:0dbb:0c18:0011:0260:6eff:fe30:0863</td>\n",
       "      <td>59680</td>\n",
       "      <td>2001:0500:0001:0000:0000:0000:803f:0235</td>\n",
       "      <td>53</td>\n",
       "      <td>UDP</td>\n",
       "      <td>query</td>\n",
       "      <td>15529</td>\n",
       "      <td>api.wunderground.com</td>\n",
       "      <td>A</td>\n",
       "      <td>0.0</td>\n",
       "      <td>NaN</td>\n",
       "      <td>NaN</td>\n",
       "      <td>NaN</td>\n",
       "      <td>wunderground.com</td>\n",
       "    </tr>\n",
       "    <tr>\n",
       "      <th>1</th>\n",
       "      <td>2017-07-22T17:33:24.990320-0500</td>\n",
       "      <td>2022925111925872</td>\n",
       "      <td>54352</td>\n",
       "      <td>dns</td>\n",
       "      <td>110</td>\n",
       "      <td>2001:0dbb:0c18:0011:0260:6eff:fe30:0863</td>\n",
       "      <td>38051</td>\n",
       "      <td>2001:0500:0003:0000:0000:0000:0000:0042</td>\n",
       "      <td>53</td>\n",
       "      <td>UDP</td>\n",
       "      <td>query</td>\n",
       "      <td>58278</td>\n",
       "      <td>stork79.dropbox.com</td>\n",
       "      <td>A</td>\n",
       "      <td>0.0</td>\n",
       "      <td>NaN</td>\n",
       "      <td>NaN</td>\n",
       "      <td>NaN</td>\n",
       "      <td>dropbox.com</td>\n",
       "    </tr>\n",
       "    <tr>\n",
       "      <th>2</th>\n",
       "      <td>2017-07-22T17:33:27.379891-0500</td>\n",
       "      <td>578544790391795</td>\n",
       "      <td>54519</td>\n",
       "      <td>dns</td>\n",
       "      <td>150</td>\n",
       "      <td>192.168.205.170</td>\n",
       "      <td>31393</td>\n",
       "      <td>192.168.207.4</td>\n",
       "      <td>53</td>\n",
       "      <td>UDP</td>\n",
       "      <td>query</td>\n",
       "      <td>54724</td>\n",
       "      <td>hpca-tier2.office.aol.com.ad.aol.aoltw.net</td>\n",
       "      <td>A</td>\n",
       "      <td>0.0</td>\n",
       "      <td>NaN</td>\n",
       "      <td>NaN</td>\n",
       "      <td>NaN</td>\n",
       "      <td>aoltw.net</td>\n",
       "    </tr>\n",
       "    <tr>\n",
       "      <th>6</th>\n",
       "      <td>2017-07-22T17:33:38.537426-0500</td>\n",
       "      <td>2167545251640146</td>\n",
       "      <td>55687</td>\n",
       "      <td>dns</td>\n",
       "      <td>180</td>\n",
       "      <td>192.168.198.62</td>\n",
       "      <td>35092</td>\n",
       "      <td>192.168.207.4</td>\n",
       "      <td>53</td>\n",
       "      <td>UDP</td>\n",
       "      <td>query</td>\n",
       "      <td>7425</td>\n",
       "      <td>safebrowsing.clients.google.com.home</td>\n",
       "      <td>A</td>\n",
       "      <td>0.0</td>\n",
       "      <td>NaN</td>\n",
       "      <td>NaN</td>\n",
       "      <td>NaN</td>\n",
       "      <td>safebrowsing.clients.google.com.home</td>\n",
       "    </tr>\n",
       "    <tr>\n",
       "      <th>9</th>\n",
       "      <td>2017-07-22T17:33:45.672579-0500</td>\n",
       "      <td>541745511744323</td>\n",
       "      <td>56307</td>\n",
       "      <td>dns</td>\n",
       "      <td>120</td>\n",
       "      <td>192.168.202.172</td>\n",
       "      <td>55580</td>\n",
       "      <td>192.168.207.4</td>\n",
       "      <td>53</td>\n",
       "      <td>UDP</td>\n",
       "      <td>query</td>\n",
       "      <td>12854</td>\n",
       "      <td>fxfeeds.mozilla.com</td>\n",
       "      <td>A</td>\n",
       "      <td>0.0</td>\n",
       "      <td>NaN</td>\n",
       "      <td>NaN</td>\n",
       "      <td>NaN</td>\n",
       "      <td>mozilla.com</td>\n",
       "    </tr>\n",
       "  </tbody>\n",
       "</table>\n",
       "</div>"
      ],
      "text/plain": [
       "                         timestamp           flow_id  pcap_cnt event_type  \\\n",
       "0  2017-07-22T17:33:16.661646-0500  1327836194150542     22269        dns   \n",
       "1  2017-07-22T17:33:24.990320-0500  2022925111925872     54352        dns   \n",
       "2  2017-07-22T17:33:27.379891-0500   578544790391795     54519        dns   \n",
       "6  2017-07-22T17:33:38.537426-0500  2167545251640146     55687        dns   \n",
       "9  2017-07-22T17:33:45.672579-0500   541745511744323     56307        dns   \n",
       "\n",
       "   vlan                                   src_ip  src_port  \\\n",
       "0   110  2001:0dbb:0c18:0011:0260:6eff:fe30:0863     59680   \n",
       "1   110  2001:0dbb:0c18:0011:0260:6eff:fe30:0863     38051   \n",
       "2   150                          192.168.205.170     31393   \n",
       "6   180                           192.168.198.62     35092   \n",
       "9   120                          192.168.202.172     55580   \n",
       "\n",
       "                                   dest_ip  dest_port proto dns.type  dns.id  \\\n",
       "0  2001:0500:0001:0000:0000:0000:803f:0235         53   UDP    query   15529   \n",
       "1  2001:0500:0003:0000:0000:0000:0000:0042         53   UDP    query   58278   \n",
       "2                            192.168.207.4         53   UDP    query   54724   \n",
       "6                            192.168.207.4         53   UDP    query    7425   \n",
       "9                            192.168.207.4         53   UDP    query   12854   \n",
       "\n",
       "                                   dns.rrname dns.rrtype  dns.tx_id  \\\n",
       "0                        api.wunderground.com          A        0.0   \n",
       "1                         stork79.dropbox.com          A        0.0   \n",
       "2  hpca-tier2.office.aol.com.ad.aol.aoltw.net          A        0.0   \n",
       "6        safebrowsing.clients.google.com.home          A        0.0   \n",
       "9                         fxfeeds.mozilla.com          A        0.0   \n",
       "\n",
       "   dns.rcode  dns.ttl  dns.rdata                             tld_flare  \n",
       "0        NaN      NaN        NaN                      wunderground.com  \n",
       "1        NaN      NaN        NaN                           dropbox.com  \n",
       "2        NaN      NaN        NaN                             aoltw.net  \n",
       "6        NaN      NaN        NaN  safebrowsing.clients.google.com.home  \n",
       "9        NaN      NaN        NaN                           mozilla.com  "
      ]
     },
     "execution_count": 16,
     "metadata": {},
     "output_type": "execute_result"
    }
   ],
   "source": [
    "#Observamos nuestro nuevo dataset, con los cambios realizados. \n",
    "filtrarUnicos.head(5)"
   ]
  },
  {
   "cell_type": "markdown",
   "id": "be83fb7c-8452-4d71-b81f-5de3f174c7bf",
   "metadata": {},
   "source": [
    "### PARTE 2 - Data Science"
   ]
  },
  {
   "cell_type": "code",
   "execution_count": 19,
   "id": "73ce0fd8-b0bf-4726-95b2-0d28933f16ed",
   "metadata": {},
   "outputs": [
    {
     "data": {
      "text/html": [
       "<div>\n",
       "<style scoped>\n",
       "    .dataframe tbody tr th:only-of-type {\n",
       "        vertical-align: middle;\n",
       "    }\n",
       "\n",
       "    .dataframe tbody tr th {\n",
       "        vertical-align: top;\n",
       "    }\n",
       "\n",
       "    .dataframe thead th {\n",
       "        text-align: right;\n",
       "    }\n",
       "</style>\n",
       "<table border=\"1\" class=\"dataframe\">\n",
       "  <thead>\n",
       "    <tr style=\"text-align: right;\">\n",
       "      <th></th>\n",
       "      <th>longitud</th>\n",
       "      <th>digitos</th>\n",
       "      <th>entropia</th>\n",
       "      <th>proporcionVocalesConsonantes</th>\n",
       "      <th>posicionPrimerDigito</th>\n",
       "    </tr>\n",
       "  </thead>\n",
       "  <tbody>\n",
       "    <tr>\n",
       "      <th>0</th>\n",
       "      <td>16</td>\n",
       "      <td>0</td>\n",
       "      <td>3.375000</td>\n",
       "      <td>0.500000</td>\n",
       "      <td>0</td>\n",
       "    </tr>\n",
       "    <tr>\n",
       "      <th>1</th>\n",
       "      <td>11</td>\n",
       "      <td>0</td>\n",
       "      <td>3.027169</td>\n",
       "      <td>0.428571</td>\n",
       "      <td>0</td>\n",
       "    </tr>\n",
       "    <tr>\n",
       "      <th>2</th>\n",
       "      <td>9</td>\n",
       "      <td>0</td>\n",
       "      <td>2.947703</td>\n",
       "      <td>0.600000</td>\n",
       "      <td>0</td>\n",
       "    </tr>\n",
       "    <tr>\n",
       "      <th>6</th>\n",
       "      <td>36</td>\n",
       "      <td>0</td>\n",
       "      <td>3.861052</td>\n",
       "      <td>0.600000</td>\n",
       "      <td>0</td>\n",
       "    </tr>\n",
       "    <tr>\n",
       "      <th>9</th>\n",
       "      <td>11</td>\n",
       "      <td>0</td>\n",
       "      <td>2.913977</td>\n",
       "      <td>0.666667</td>\n",
       "      <td>0</td>\n",
       "    </tr>\n",
       "  </tbody>\n",
       "</table>\n",
       "</div>"
      ],
      "text/plain": [
       "   longitud  digitos  entropia  proporcionVocalesConsonantes  \\\n",
       "0        16        0  3.375000                      0.500000   \n",
       "1        11        0  3.027169                      0.428571   \n",
       "2         9        0  2.947703                      0.600000   \n",
       "6        36        0  3.861052                      0.600000   \n",
       "9        11        0  2.913977                      0.666667   \n",
       "\n",
       "   posicionPrimerDigito  \n",
       "0                     0  \n",
       "1                     0  \n",
       "2                     0  \n",
       "6                     0  \n",
       "9                     0  "
      ]
     },
     "execution_count": 19,
     "metadata": {},
     "output_type": "execute_result"
    }
   ],
   "source": [
    "#Utilizamos el clasificador del laboratorio pasado. \n",
    "dfDS = pd.DataFrame()\n",
    "datos = filtrarUnicos['tld_flare']\n",
    "dfDS['longitud'] =  filtrarUnicos['tld_flare'].str.len()\n",
    "dfDS['digitos'] = filtrarUnicos['tld_flare'].str.count('[0-9]')\n",
    "dfDS['entropia'] = filtrarUnicos['tld_flare'].apply(H_entropy)\n",
    "dfDS['proporcionVocalesConsonantes'] = filtrarUnicos['tld_flare'].apply(proporcionVocalesConsonantes)\n",
    "dfDS['posicionPrimerDigito'] = filtrarUnicos['tld_flare'].apply(posicionPrimerDigito)\n",
    "\n",
    "#Observamos nuestro nuevo dataset. \n",
    "dfDS.head(5)"
   ]
  },
  {
   "cell_type": "code",
   "execution_count": 22,
   "id": "adeffc11-37d8-48b3-a9dd-da5f14a2311f",
   "metadata": {},
   "outputs": [],
   "source": [
    "#Cargamos nuestro modelo del laboratorio pasado. \n",
    "modelo = load('modelo1.joblib')\n",
    "resultados = modelo.predict(dfDS)"
   ]
  },
  {
   "cell_type": "code",
   "execution_count": 23,
   "id": "5ca168b1-422b-4fa4-836a-ee79b1327658",
   "metadata": {},
   "outputs": [],
   "source": [
    "#Función para filtrar los registros.\n",
    "registrosFil = []\n",
    "for i in resultados:\n",
    "    if i == 0:\n",
    "        registrosFil.append(False)\n",
    "    else:\n",
    "        registrosFil.append(True)"
   ]
  },
  {
   "cell_type": "code",
   "execution_count": 37,
   "id": "47ce6e70-8d77-4da8-a2b2-1b63b372066e",
   "metadata": {},
   "outputs": [
    {
     "name": "stdout",
     "output_type": "stream",
     "text": [
      "Registros filtrados:\n"
     ]
    },
    {
     "data": {
      "text/plain": [
       "6                  safebrowsing.clients.google.com.home\n",
       "163                            192.168.22.110phpmyadmin\n",
       "191         safebrowsing.clients.google.com.localdomain\n",
       "293                192.168.22.110phpmyadmin.localdomain\n",
       "363                                       ntkrnlpa.info\n",
       "463                                     portswigger.net\n",
       "583                                      sql-ledger.org\n",
       "648                                 backtrack-linux.org\n",
       "796      safebrowsing.clients.google.com.hackerlabs.vpn\n",
       "828                                      phpmyadmin.net\n",
       "887                                      postgresql.org\n",
       "996              secure.informaction.com.hackerlabs.vpn\n",
       "1072                safebrowsing.clients.google.com.lan\n",
       "1195                                   \"192.168.206.56\"\n",
       "1398                                  windowsupdate.com\n",
       "1836                                    192.168.26-27.0\n",
       "2182                                       fastserv.com\n",
       "2235                                      liquidweb.com\n",
       "2255                                       fastserv.com\n",
       "2485                                     team-cymru.org\n",
       "6898                                    192.168.21.1201\n",
       "7963                                       msftncsi.com\n",
       "8026                                       msftncsi.com\n",
       "9856                               vtlfccmfxlkgifuf.com\n",
       "9979                                    1922.168.22.254\n",
       "10048                              1922.168.22.254.home\n",
       "10607                                   192.168.21-28.0\n",
       "10646                              ejfodfmfxlkgifuf.xyz\n",
       "14730                              192.168.21-28.0.home\n",
       "15507                                   192.168.22.201:\n",
       "15716                    192.168.22.201:.stayonline.net\n",
       "Name: tld_flare, dtype: object"
      ]
     },
     "execution_count": 37,
     "metadata": {},
     "output_type": "execute_result"
    }
   ],
   "source": [
    "print(\"Registros filtrados:\")\n",
    "filtrarUnicos[registrosFil]['tld_flare']"
   ]
  },
  {
   "cell_type": "code",
   "execution_count": 35,
   "id": "d1d48543-c563-46e8-a268-9eb73e89ee84",
   "metadata": {},
   "outputs": [
    {
     "name": "stdout",
     "output_type": "stream",
     "text": [
      "[*] Initializing... training classifier - Please wait.\n",
      "[+] Training classifier on training set\n"
     ]
    },
    {
     "name": "stderr",
     "output_type": "stream",
     "text": [
      "C:\\Users\\alexa\\anaconda3\\lib\\site-packages\\sklearn\\ensemble\\_forest.py:541: UserWarning: Some inputs do not have OOB scores. This probably means too few trees were used to compute any reliable oob estimates.\n",
      "  warn(\"Some inputs do not have OOB scores. \"\n",
      "C:\\Users\\alexa\\anaconda3\\lib\\site-packages\\sklearn\\ensemble\\_forest.py:545: RuntimeWarning: invalid value encountered in true_divide\n",
      "  decision = (predictions[k] /\n"
     ]
    },
    {
     "name": "stdout",
     "output_type": "stream",
     "text": [
      "[+] Out of sample legit f1 score 0.9989011490540403\n",
      "[+] Out of sample dga f1 score 0.6373117033603707\n",
      "[+] Training final classifier\n"
     ]
    },
    {
     "name": "stderr",
     "output_type": "stream",
     "text": [
      "C:\\Users\\alexa\\anaconda3\\lib\\site-packages\\sklearn\\ensemble\\_forest.py:541: UserWarning: Some inputs do not have OOB scores. This probably means too few trees were used to compute any reliable oob estimates.\n",
      "  warn(\"Some inputs do not have OOB scores. \"\n",
      "C:\\Users\\alexa\\anaconda3\\lib\\site-packages\\sklearn\\ensemble\\_forest.py:545: RuntimeWarning: invalid value encountered in true_divide\n",
      "  decision = (predictions[k] /\n"
     ]
    },
    {
     "name": "stdout",
     "output_type": "stream",
     "text": [
      "[+] Classifier Ready\n"
     ]
    }
   ],
   "source": [
    "#Implementamos DGA con Flare.\n",
    "from features import dga_classifier\n",
    "dga = dga_classifier()"
   ]
  },
  {
   "cell_type": "code",
   "execution_count": 36,
   "id": "6b86fdd3-1260-4a65-9e2f-68afa46a399f",
   "metadata": {},
   "outputs": [
    {
     "name": "stderr",
     "output_type": "stream",
     "text": [
      "<ipython-input-36-44ede040df75>:1: SettingWithCopyWarning: \n",
      "A value is trying to be set on a copy of a slice from a DataFrame.\n",
      "Try using .loc[row_indexer,col_indexer] = value instead\n",
      "\n",
      "See the caveats in the documentation: https://pandas.pydata.org/pandas-docs/stable/user_guide/indexing.html#returning-a-view-versus-a-copy\n",
      "  filtrarUnicos['good'] = filtrarUnicos['tld_flare'].apply(dga.predict)\n"
     ]
    },
    {
     "data": {
      "text/plain": [
       "163      192.168.22.110phpmyadmin\n",
       "9856         vtlfccmfxlkgifuf.com\n",
       "10048        1922.168.22.254.home\n",
       "10646        ejfodfmfxlkgifuf.xyz\n",
       "14730        192.168.21-28.0.home\n",
       "Name: tld_flare, dtype: object"
      ]
     },
     "execution_count": 36,
     "metadata": {},
     "output_type": "execute_result"
    }
   ],
   "source": [
    "#Filtramos los dominios clasificados como DGA.\n",
    "filtrarUnicos['good'] = filtrarUnicos['tld_flare'].apply(dga.predict)\n",
    "filtrarUnicos[filtrarUnicos['good'] == 'dga']['tld_flare']"
   ]
  },
  {
   "cell_type": "markdown",
   "id": "94533092-d45a-4303-8f5d-93dcc656203e",
   "metadata": {},
   "source": [
    "**¿Son los mismos dominios que los de su modelo?**  \n",
    "Si los cinco registros que se obtuvieron al utilizar el modelo de DGA con Flare, se encuentran en la lista de registros filtrados por el modelo del laboratorio pasado. "
   ]
  },
  {
   "cell_type": "markdown",
   "id": "91fec300-cfaa-4f1e-89b8-67085343903c",
   "metadata": {},
   "source": [
    "### PARTE 3 - Dominio Experto "
   ]
  },
  {
   "cell_type": "code",
   "execution_count": 46,
   "id": "4968238e-1a4b-442c-9a12-2e4a155aec57",
   "metadata": {},
   "outputs": [
    {
     "ename": "NameError",
     "evalue": "name 'Umbrella' is not defined",
     "output_type": "error",
     "traceback": [
      "\u001b[1;31m---------------------------------------------------------------------------\u001b[0m",
      "\u001b[1;31mNameError\u001b[0m                                 Traceback (most recent call last)",
      "\u001b[1;32m<ipython-input-46-45d326a2641e>\u001b[0m in \u001b[0;36m<module>\u001b[1;34m\u001b[0m\n\u001b[0;32m      1\u001b[0m \u001b[1;32mfrom\u001b[0m \u001b[0mumbrella\u001b[0m \u001b[1;32mimport\u001b[0m \u001b[1;33m*\u001b[0m\u001b[1;33m\u001b[0m\u001b[1;33m\u001b[0m\u001b[0m\n\u001b[1;32m----> 2\u001b[1;33m \u001b[0mumbrellaCisco\u001b[0m \u001b[1;33m=\u001b[0m \u001b[0mUmbrella\u001b[0m\u001b[1;33m(\u001b[0m\u001b[0mlimit\u001b[0m\u001b[1;33m=\u001b[0m \u001b[1;36m1000000\u001b[0m\u001b[1;33m)\u001b[0m\u001b[1;33m\u001b[0m\u001b[1;33m\u001b[0m\u001b[0m\n\u001b[0m",
      "\u001b[1;31mNameError\u001b[0m: name 'Umbrella' is not defined"
     ]
    }
   ],
   "source": [
    "from umbrella import *\n",
    "umbrellaCisco = Umbrella(limit= 1000000)"
   ]
  },
  {
   "cell_type": "code",
   "execution_count": null,
   "id": "a89e9354-a860-4bda-8afc-ea069b013dfa",
   "metadata": {},
   "outputs": [],
   "source": []
  }
 ],
 "metadata": {
  "kernelspec": {
   "display_name": "Python 3",
   "language": "python",
   "name": "python3"
  },
  "language_info": {
   "codemirror_mode": {
    "name": "ipython",
    "version": 3
   },
   "file_extension": ".py",
   "mimetype": "text/x-python",
   "name": "python",
   "nbconvert_exporter": "python",
   "pygments_lexer": "ipython3",
   "version": "3.8.8"
  }
 },
 "nbformat": 4,
 "nbformat_minor": 5
}
