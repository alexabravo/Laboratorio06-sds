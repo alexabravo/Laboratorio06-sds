{
 "cells": [
  {
   "cell_type": "markdown",
   "id": "0acdcfe7-a332-4c53-be57-cbccb6aff7f1",
   "metadata": {},
   "source": [
    "## Laboratorio 06: Hunting with Data Science \n",
    "Alexa Bravo  18831  \n",
    "Mayo 02, 2022"
   ]
  },
  {
   "cell_type": "markdown",
   "id": "925fb7a1-4fa3-4b09-ae15-15b4dbef3738",
   "metadata": {},
   "source": [
    "### PARTE 1 - Filtrado y Preprocesamiento"
   ]
  },
  {
   "cell_type": "code",
   "execution_count": 1,
   "id": "1bd7eab5-3d58-45b8-82a1-ea275b9d2cff",
   "metadata": {},
   "outputs": [],
   "source": [
    "#Importamos las librerias \n",
    "import pandas as pd\n",
    "import numpy as np\n",
    "import json\n",
    "import joblib\n",
    "from joblib import load\n",
    "import whois\n",
    "from features import domain_tld_extract\n",
    "from modelo_compara.caracteristicasDerivadas import H_entropy, proporcionVocalesConsonantes, posicionPrimerDigito"
   ]
  },
  {
   "cell_type": "code",
   "execution_count": 2,
   "id": "06c58646-fce1-489a-95bd-58b4150854b7",
   "metadata": {},
   "outputs": [
    {
     "name": "stdout",
     "output_type": "stream",
     "text": [
      "La cantidad total de registros es: 746909\n"
     ]
    }
   ],
   "source": [
    "#Cargamos los datos. \n",
    "file = open('large_eve.json')\n",
    "datos = file.readlines()\n",
    "file.close()\n",
    "\n",
    "#Volvemos un diccionario el json, para poder obtener la cantidad total. \n",
    "registros = [json.loads(fila) for fila in datos if fila]\n",
    "\n",
    "#Vemos la cantidad total de registros del json. \n",
    "print(\"La cantidad total de registros es:\", len(registros))"
   ]
  },
  {
   "cell_type": "code",
   "execution_count": 3,
   "id": "a92946a0-278a-40a6-8ebc-3610bd5713bc",
   "metadata": {},
   "outputs": [],
   "source": [
    "#Función para filtrar solo los DNS.\n",
    "def fDNS(dictionary, search_string):\n",
    "    def iterator_func(x):\n",
    "        if search_string in list(x.keys()):\n",
    "            return True\n",
    "        return False\n",
    "    return list(filter(iterator_func, dictionary))"
   ]
  },
  {
   "cell_type": "code",
   "execution_count": 4,
   "id": "905b52c4-6120-43ea-a1d1-53eeb5dc0f6a",
   "metadata": {},
   "outputs": [
    {
     "name": "stdout",
     "output_type": "stream",
     "text": [
      "La cantidad de registros de DNS es: 15749\n"
     ]
    }
   ],
   "source": [
    "#Mostramos la nueva cantidad de registros filtrados.\n",
    "filtrarDNS = fDNS(registros, \"dns\")\n",
    "print(\"La cantidad de registros de DNS es:\", len(filtrarDNS))"
   ]
  },
  {
   "cell_type": "code",
   "execution_count": 5,
   "id": "c521ff58-026f-45ba-a815-cfb59977d8f4",
   "metadata": {},
   "outputs": [
    {
     "name": "stdout",
     "output_type": "stream",
     "text": [
      "Información de dos registros:\n",
      "[{'timestamp': '2017-07-22T17:33:16.661646-0500', 'flow_id': 1327836194150542, 'pcap_cnt': 22269, 'event_type': 'dns', 'vlan': 110, 'src_ip': '2001:0dbb:0c18:0011:0260:6eff:fe30:0863', 'src_port': 59680, 'dest_ip': '2001:0500:0001:0000:0000:0000:803f:0235', 'dest_port': 53, 'proto': 'UDP', 'dns': {'type': 'query', 'id': 15529, 'rrname': 'api.wunderground.com', 'rrtype': 'A', 'tx_id': 0}}, {'timestamp': '2017-07-22T17:33:24.990320-0500', 'flow_id': 2022925111925872, 'pcap_cnt': 54352, 'event_type': 'dns', 'vlan': 110, 'src_ip': '2001:0dbb:0c18:0011:0260:6eff:fe30:0863', 'src_port': 38051, 'dest_ip': '2001:0500:0003:0000:0000:0000:0000:0042', 'dest_port': 53, 'proto': 'UDP', 'dns': {'type': 'query', 'id': 58278, 'rrname': 'stork79.dropbox.com', 'rrtype': 'A', 'tx_id': 0}}]\n"
     ]
    }
   ],
   "source": [
    "#Mostramos la información de dos registros cualquiera.\n",
    "print(\"Información de dos registros:\")\n",
    "print(filtrarDNS[0:2])"
   ]
  },
  {
   "cell_type": "code",
   "execution_count": 6,
   "id": "61d65f71-fc9f-4af2-9b7b-742600283da0",
   "metadata": {},
   "outputs": [
    {
     "data": {
      "text/html": [
       "<div>\n",
       "<style scoped>\n",
       "    .dataframe tbody tr th:only-of-type {\n",
       "        vertical-align: middle;\n",
       "    }\n",
       "\n",
       "    .dataframe tbody tr th {\n",
       "        vertical-align: top;\n",
       "    }\n",
       "\n",
       "    .dataframe thead th {\n",
       "        text-align: right;\n",
       "    }\n",
       "</style>\n",
       "<table border=\"1\" class=\"dataframe\">\n",
       "  <thead>\n",
       "    <tr style=\"text-align: right;\">\n",
       "      <th></th>\n",
       "      <th>timestamp</th>\n",
       "      <th>flow_id</th>\n",
       "      <th>pcap_cnt</th>\n",
       "      <th>event_type</th>\n",
       "      <th>vlan</th>\n",
       "      <th>src_ip</th>\n",
       "      <th>src_port</th>\n",
       "      <th>dest_ip</th>\n",
       "      <th>dest_port</th>\n",
       "      <th>proto</th>\n",
       "      <th>dns.type</th>\n",
       "      <th>dns.id</th>\n",
       "      <th>dns.rrname</th>\n",
       "      <th>dns.rrtype</th>\n",
       "      <th>dns.tx_id</th>\n",
       "      <th>dns.rcode</th>\n",
       "      <th>dns.ttl</th>\n",
       "      <th>dns.rdata</th>\n",
       "    </tr>\n",
       "  </thead>\n",
       "  <tbody>\n",
       "    <tr>\n",
       "      <th>0</th>\n",
       "      <td>2017-07-22T17:33:16.661646-0500</td>\n",
       "      <td>1327836194150542</td>\n",
       "      <td>22269</td>\n",
       "      <td>dns</td>\n",
       "      <td>110</td>\n",
       "      <td>2001:0dbb:0c18:0011:0260:6eff:fe30:0863</td>\n",
       "      <td>59680</td>\n",
       "      <td>2001:0500:0001:0000:0000:0000:803f:0235</td>\n",
       "      <td>53</td>\n",
       "      <td>UDP</td>\n",
       "      <td>query</td>\n",
       "      <td>15529</td>\n",
       "      <td>api.wunderground.com</td>\n",
       "      <td>A</td>\n",
       "      <td>0.0</td>\n",
       "      <td>NaN</td>\n",
       "      <td>NaN</td>\n",
       "      <td>NaN</td>\n",
       "    </tr>\n",
       "    <tr>\n",
       "      <th>1</th>\n",
       "      <td>2017-07-22T17:33:24.990320-0500</td>\n",
       "      <td>2022925111925872</td>\n",
       "      <td>54352</td>\n",
       "      <td>dns</td>\n",
       "      <td>110</td>\n",
       "      <td>2001:0dbb:0c18:0011:0260:6eff:fe30:0863</td>\n",
       "      <td>38051</td>\n",
       "      <td>2001:0500:0003:0000:0000:0000:0000:0042</td>\n",
       "      <td>53</td>\n",
       "      <td>UDP</td>\n",
       "      <td>query</td>\n",
       "      <td>58278</td>\n",
       "      <td>stork79.dropbox.com</td>\n",
       "      <td>A</td>\n",
       "      <td>0.0</td>\n",
       "      <td>NaN</td>\n",
       "      <td>NaN</td>\n",
       "      <td>NaN</td>\n",
       "    </tr>\n",
       "    <tr>\n",
       "      <th>2</th>\n",
       "      <td>2017-07-22T17:33:27.379891-0500</td>\n",
       "      <td>578544790391795</td>\n",
       "      <td>54519</td>\n",
       "      <td>dns</td>\n",
       "      <td>150</td>\n",
       "      <td>192.168.205.170</td>\n",
       "      <td>31393</td>\n",
       "      <td>192.168.207.4</td>\n",
       "      <td>53</td>\n",
       "      <td>UDP</td>\n",
       "      <td>query</td>\n",
       "      <td>54724</td>\n",
       "      <td>hpca-tier2.office.aol.com.ad.aol.aoltw.net</td>\n",
       "      <td>A</td>\n",
       "      <td>0.0</td>\n",
       "      <td>NaN</td>\n",
       "      <td>NaN</td>\n",
       "      <td>NaN</td>\n",
       "    </tr>\n",
       "    <tr>\n",
       "      <th>3</th>\n",
       "      <td>2017-07-22T17:33:27.380146-0500</td>\n",
       "      <td>578544790391795</td>\n",
       "      <td>54520</td>\n",
       "      <td>dns</td>\n",
       "      <td>150</td>\n",
       "      <td>192.168.207.4</td>\n",
       "      <td>53</td>\n",
       "      <td>192.168.205.170</td>\n",
       "      <td>31393</td>\n",
       "      <td>UDP</td>\n",
       "      <td>answer</td>\n",
       "      <td>54724</td>\n",
       "      <td>hpca-tier2.office.aol.com.ad.aol.aoltw.net</td>\n",
       "      <td>NaN</td>\n",
       "      <td>NaN</td>\n",
       "      <td>NXDOMAIN</td>\n",
       "      <td>NaN</td>\n",
       "      <td>NaN</td>\n",
       "    </tr>\n",
       "    <tr>\n",
       "      <th>4</th>\n",
       "      <td>2017-07-22T17:33:27.380146-0500</td>\n",
       "      <td>578544790391795</td>\n",
       "      <td>54520</td>\n",
       "      <td>dns</td>\n",
       "      <td>150</td>\n",
       "      <td>192.168.207.4</td>\n",
       "      <td>53</td>\n",
       "      <td>192.168.205.170</td>\n",
       "      <td>31393</td>\n",
       "      <td>UDP</td>\n",
       "      <td>answer</td>\n",
       "      <td>54724</td>\n",
       "      <td>&lt;root&gt;</td>\n",
       "      <td>SOA</td>\n",
       "      <td>NaN</td>\n",
       "      <td>NXDOMAIN</td>\n",
       "      <td>20864.0</td>\n",
       "      <td>NaN</td>\n",
       "    </tr>\n",
       "  </tbody>\n",
       "</table>\n",
       "</div>"
      ],
      "text/plain": [
       "                         timestamp           flow_id  pcap_cnt event_type  \\\n",
       "0  2017-07-22T17:33:16.661646-0500  1327836194150542     22269        dns   \n",
       "1  2017-07-22T17:33:24.990320-0500  2022925111925872     54352        dns   \n",
       "2  2017-07-22T17:33:27.379891-0500   578544790391795     54519        dns   \n",
       "3  2017-07-22T17:33:27.380146-0500   578544790391795     54520        dns   \n",
       "4  2017-07-22T17:33:27.380146-0500   578544790391795     54520        dns   \n",
       "\n",
       "   vlan                                   src_ip  src_port  \\\n",
       "0   110  2001:0dbb:0c18:0011:0260:6eff:fe30:0863     59680   \n",
       "1   110  2001:0dbb:0c18:0011:0260:6eff:fe30:0863     38051   \n",
       "2   150                          192.168.205.170     31393   \n",
       "3   150                            192.168.207.4        53   \n",
       "4   150                            192.168.207.4        53   \n",
       "\n",
       "                                   dest_ip  dest_port proto dns.type  dns.id  \\\n",
       "0  2001:0500:0001:0000:0000:0000:803f:0235         53   UDP    query   15529   \n",
       "1  2001:0500:0003:0000:0000:0000:0000:0042         53   UDP    query   58278   \n",
       "2                            192.168.207.4         53   UDP    query   54724   \n",
       "3                          192.168.205.170      31393   UDP   answer   54724   \n",
       "4                          192.168.205.170      31393   UDP   answer   54724   \n",
       "\n",
       "                                   dns.rrname dns.rrtype  dns.tx_id dns.rcode  \\\n",
       "0                        api.wunderground.com          A        0.0       NaN   \n",
       "1                         stork79.dropbox.com          A        0.0       NaN   \n",
       "2  hpca-tier2.office.aol.com.ad.aol.aoltw.net          A        0.0       NaN   \n",
       "3  hpca-tier2.office.aol.com.ad.aol.aoltw.net        NaN        NaN  NXDOMAIN   \n",
       "4                                      <root>        SOA        NaN  NXDOMAIN   \n",
       "\n",
       "   dns.ttl dns.rdata  \n",
       "0      NaN       NaN  \n",
       "1      NaN       NaN  \n",
       "2      NaN       NaN  \n",
       "3      NaN       NaN  \n",
       "4  20864.0       NaN  "
      ]
     },
     "execution_count": 6,
     "metadata": {},
     "output_type": "execute_result"
    }
   ],
   "source": [
    "#Volvemos el json a un dataframe.\n",
    "df = pd.json_normalize(filtrarDNS)\n",
    "df.head(5)"
   ]
  },
  {
   "cell_type": "code",
   "execution_count": 7,
   "id": "6116f05b-6132-4948-a799-0c2111da824d",
   "metadata": {},
   "outputs": [
    {
     "name": "stdout",
     "output_type": "stream",
     "text": [
      "La cantidad de registros de DNA de tipo A es: 2849\n"
     ]
    }
   ],
   "source": [
    "#Filtramos los registros de tipo A. \n",
    "filtrarA = df[df['dns.rrtype'] == 'A']\n",
    "print(\"La cantidad de registros de DNA de tipo A es:\", len(filtrarA))"
   ]
  },
  {
   "cell_type": "code",
   "execution_count": 8,
   "id": "7e49ceb9-dba2-44d1-8d5b-70565d89580b",
   "metadata": {},
   "outputs": [
    {
     "name": "stdout",
     "output_type": "stream",
     "text": [
      "Los registros únicos son: 177\n"
     ]
    }
   ],
   "source": [
    "#Filtramos los dominios únicos\n",
    "filtrarUnicos = filtrarA.drop_duplicates(subset=['dns.rrname'])\n",
    "print(\"Los registros únicos son:\", len(filtrarUnicos))"
   ]
  },
  {
   "cell_type": "code",
   "execution_count": 9,
   "id": "993db5c4-b0c2-4724-97d3-829111d63b3d",
   "metadata": {},
   "outputs": [
    {
     "name": "stderr",
     "output_type": "stream",
     "text": [
      "<ipython-input-9-c35d0b02d670>:2: SettingWithCopyWarning: \n",
      "A value is trying to be set on a copy of a slice from a DataFrame.\n",
      "Try using .loc[row_indexer,col_indexer] = value instead\n",
      "\n",
      "See the caveats in the documentation: https://pandas.pydata.org/pandas-docs/stable/user_guide/indexing.html#returning-a-view-versus-a-copy\n",
      "  filtrarUnicos['tld_flare'] = filtrarUnicos['dns.rrname'].apply(domain_tld_extract)\n"
     ]
    }
   ],
   "source": [
    "#Obtener el TLD, utilizando flare. \n",
    "filtrarUnicos['tld_flare'] = filtrarUnicos['dns.rrname'].apply(domain_tld_extract)"
   ]
  },
  {
   "cell_type": "code",
   "execution_count": 10,
   "id": "d881f309-0762-4473-bb8a-d805232e889d",
   "metadata": {},
   "outputs": [
    {
     "name": "stderr",
     "output_type": "stream",
     "text": [
      "C:\\Users\\alexa\\anaconda3\\lib\\site-packages\\pandas\\core\\frame.py:4524: SettingWithCopyWarning: \n",
      "A value is trying to be set on a copy of a slice from a DataFrame\n",
      "\n",
      "See the caveats in the documentation: https://pandas.pydata.org/pandas-docs/stable/user_guide/indexing.html#returning-a-view-versus-a-copy\n",
      "  return super().replace(\n",
      "<ipython-input-10-7154d0e77290>:4: SettingWithCopyWarning: \n",
      "A value is trying to be set on a copy of a slice from a DataFrame\n",
      "\n",
      "See the caveats in the documentation: https://pandas.pydata.org/pandas-docs/stable/user_guide/indexing.html#returning-a-view-versus-a-copy\n",
      "  filtrarUnicos.dropna(subset = [\"tld_flare\"], inplace=True)\n"
     ]
    }
   ],
   "source": [
    "filtrarUnicos['tld_flare']\n",
    "nan_value = float(\"NaN\")\n",
    "filtrarUnicos.replace(\"\", nan_value, inplace=True)\n",
    "filtrarUnicos.dropna(subset = [\"tld_flare\"], inplace=True)"
   ]
  },
  {
   "cell_type": "code",
   "execution_count": 11,
   "id": "08c297ed-27a6-4fbc-8683-300b7a58d988",
   "metadata": {},
   "outputs": [
    {
     "data": {
      "text/html": [
       "<div>\n",
       "<style scoped>\n",
       "    .dataframe tbody tr th:only-of-type {\n",
       "        vertical-align: middle;\n",
       "    }\n",
       "\n",
       "    .dataframe tbody tr th {\n",
       "        vertical-align: top;\n",
       "    }\n",
       "\n",
       "    .dataframe thead th {\n",
       "        text-align: right;\n",
       "    }\n",
       "</style>\n",
       "<table border=\"1\" class=\"dataframe\">\n",
       "  <thead>\n",
       "    <tr style=\"text-align: right;\">\n",
       "      <th></th>\n",
       "      <th>timestamp</th>\n",
       "      <th>flow_id</th>\n",
       "      <th>pcap_cnt</th>\n",
       "      <th>event_type</th>\n",
       "      <th>vlan</th>\n",
       "      <th>src_ip</th>\n",
       "      <th>src_port</th>\n",
       "      <th>dest_ip</th>\n",
       "      <th>dest_port</th>\n",
       "      <th>proto</th>\n",
       "      <th>dns.type</th>\n",
       "      <th>dns.id</th>\n",
       "      <th>dns.rrname</th>\n",
       "      <th>dns.rrtype</th>\n",
       "      <th>dns.tx_id</th>\n",
       "      <th>dns.rcode</th>\n",
       "      <th>dns.ttl</th>\n",
       "      <th>dns.rdata</th>\n",
       "      <th>tld_flare</th>\n",
       "    </tr>\n",
       "  </thead>\n",
       "  <tbody>\n",
       "    <tr>\n",
       "      <th>0</th>\n",
       "      <td>2017-07-22T17:33:16.661646-0500</td>\n",
       "      <td>1327836194150542</td>\n",
       "      <td>22269</td>\n",
       "      <td>dns</td>\n",
       "      <td>110</td>\n",
       "      <td>2001:0dbb:0c18:0011:0260:6eff:fe30:0863</td>\n",
       "      <td>59680</td>\n",
       "      <td>2001:0500:0001:0000:0000:0000:803f:0235</td>\n",
       "      <td>53</td>\n",
       "      <td>UDP</td>\n",
       "      <td>query</td>\n",
       "      <td>15529</td>\n",
       "      <td>api.wunderground.com</td>\n",
       "      <td>A</td>\n",
       "      <td>0.0</td>\n",
       "      <td>NaN</td>\n",
       "      <td>NaN</td>\n",
       "      <td>NaN</td>\n",
       "      <td>wunderground.com</td>\n",
       "    </tr>\n",
       "    <tr>\n",
       "      <th>1</th>\n",
       "      <td>2017-07-22T17:33:24.990320-0500</td>\n",
       "      <td>2022925111925872</td>\n",
       "      <td>54352</td>\n",
       "      <td>dns</td>\n",
       "      <td>110</td>\n",
       "      <td>2001:0dbb:0c18:0011:0260:6eff:fe30:0863</td>\n",
       "      <td>38051</td>\n",
       "      <td>2001:0500:0003:0000:0000:0000:0000:0042</td>\n",
       "      <td>53</td>\n",
       "      <td>UDP</td>\n",
       "      <td>query</td>\n",
       "      <td>58278</td>\n",
       "      <td>stork79.dropbox.com</td>\n",
       "      <td>A</td>\n",
       "      <td>0.0</td>\n",
       "      <td>NaN</td>\n",
       "      <td>NaN</td>\n",
       "      <td>NaN</td>\n",
       "      <td>dropbox.com</td>\n",
       "    </tr>\n",
       "    <tr>\n",
       "      <th>2</th>\n",
       "      <td>2017-07-22T17:33:27.379891-0500</td>\n",
       "      <td>578544790391795</td>\n",
       "      <td>54519</td>\n",
       "      <td>dns</td>\n",
       "      <td>150</td>\n",
       "      <td>192.168.205.170</td>\n",
       "      <td>31393</td>\n",
       "      <td>192.168.207.4</td>\n",
       "      <td>53</td>\n",
       "      <td>UDP</td>\n",
       "      <td>query</td>\n",
       "      <td>54724</td>\n",
       "      <td>hpca-tier2.office.aol.com.ad.aol.aoltw.net</td>\n",
       "      <td>A</td>\n",
       "      <td>0.0</td>\n",
       "      <td>NaN</td>\n",
       "      <td>NaN</td>\n",
       "      <td>NaN</td>\n",
       "      <td>aoltw.net</td>\n",
       "    </tr>\n",
       "    <tr>\n",
       "      <th>6</th>\n",
       "      <td>2017-07-22T17:33:38.537426-0500</td>\n",
       "      <td>2167545251640146</td>\n",
       "      <td>55687</td>\n",
       "      <td>dns</td>\n",
       "      <td>180</td>\n",
       "      <td>192.168.198.62</td>\n",
       "      <td>35092</td>\n",
       "      <td>192.168.207.4</td>\n",
       "      <td>53</td>\n",
       "      <td>UDP</td>\n",
       "      <td>query</td>\n",
       "      <td>7425</td>\n",
       "      <td>safebrowsing.clients.google.com.home</td>\n",
       "      <td>A</td>\n",
       "      <td>0.0</td>\n",
       "      <td>NaN</td>\n",
       "      <td>NaN</td>\n",
       "      <td>NaN</td>\n",
       "      <td>safebrowsing.clients.google.com.home</td>\n",
       "    </tr>\n",
       "    <tr>\n",
       "      <th>9</th>\n",
       "      <td>2017-07-22T17:33:45.672579-0500</td>\n",
       "      <td>541745511744323</td>\n",
       "      <td>56307</td>\n",
       "      <td>dns</td>\n",
       "      <td>120</td>\n",
       "      <td>192.168.202.172</td>\n",
       "      <td>55580</td>\n",
       "      <td>192.168.207.4</td>\n",
       "      <td>53</td>\n",
       "      <td>UDP</td>\n",
       "      <td>query</td>\n",
       "      <td>12854</td>\n",
       "      <td>fxfeeds.mozilla.com</td>\n",
       "      <td>A</td>\n",
       "      <td>0.0</td>\n",
       "      <td>NaN</td>\n",
       "      <td>NaN</td>\n",
       "      <td>NaN</td>\n",
       "      <td>mozilla.com</td>\n",
       "    </tr>\n",
       "  </tbody>\n",
       "</table>\n",
       "</div>"
      ],
      "text/plain": [
       "                         timestamp           flow_id  pcap_cnt event_type  \\\n",
       "0  2017-07-22T17:33:16.661646-0500  1327836194150542     22269        dns   \n",
       "1  2017-07-22T17:33:24.990320-0500  2022925111925872     54352        dns   \n",
       "2  2017-07-22T17:33:27.379891-0500   578544790391795     54519        dns   \n",
       "6  2017-07-22T17:33:38.537426-0500  2167545251640146     55687        dns   \n",
       "9  2017-07-22T17:33:45.672579-0500   541745511744323     56307        dns   \n",
       "\n",
       "   vlan                                   src_ip  src_port  \\\n",
       "0   110  2001:0dbb:0c18:0011:0260:6eff:fe30:0863     59680   \n",
       "1   110  2001:0dbb:0c18:0011:0260:6eff:fe30:0863     38051   \n",
       "2   150                          192.168.205.170     31393   \n",
       "6   180                           192.168.198.62     35092   \n",
       "9   120                          192.168.202.172     55580   \n",
       "\n",
       "                                   dest_ip  dest_port proto dns.type  dns.id  \\\n",
       "0  2001:0500:0001:0000:0000:0000:803f:0235         53   UDP    query   15529   \n",
       "1  2001:0500:0003:0000:0000:0000:0000:0042         53   UDP    query   58278   \n",
       "2                            192.168.207.4         53   UDP    query   54724   \n",
       "6                            192.168.207.4         53   UDP    query    7425   \n",
       "9                            192.168.207.4         53   UDP    query   12854   \n",
       "\n",
       "                                   dns.rrname dns.rrtype  dns.tx_id  \\\n",
       "0                        api.wunderground.com          A        0.0   \n",
       "1                         stork79.dropbox.com          A        0.0   \n",
       "2  hpca-tier2.office.aol.com.ad.aol.aoltw.net          A        0.0   \n",
       "6        safebrowsing.clients.google.com.home          A        0.0   \n",
       "9                         fxfeeds.mozilla.com          A        0.0   \n",
       "\n",
       "   dns.rcode  dns.ttl  dns.rdata                             tld_flare  \n",
       "0        NaN      NaN        NaN                      wunderground.com  \n",
       "1        NaN      NaN        NaN                           dropbox.com  \n",
       "2        NaN      NaN        NaN                             aoltw.net  \n",
       "6        NaN      NaN        NaN  safebrowsing.clients.google.com.home  \n",
       "9        NaN      NaN        NaN                           mozilla.com  "
      ]
     },
     "execution_count": 11,
     "metadata": {},
     "output_type": "execute_result"
    }
   ],
   "source": [
    "#Observamos nuestro nuevo dataset, con los cambios realizados. \n",
    "filtrarUnicos.head(5)"
   ]
  },
  {
   "cell_type": "markdown",
   "id": "be83fb7c-8452-4d71-b81f-5de3f174c7bf",
   "metadata": {},
   "source": [
    "### PARTE 2 - Data Science"
   ]
  },
  {
   "cell_type": "code",
   "execution_count": 12,
   "id": "73ce0fd8-b0bf-4726-95b2-0d28933f16ed",
   "metadata": {},
   "outputs": [
    {
     "data": {
      "text/html": [
       "<div>\n",
       "<style scoped>\n",
       "    .dataframe tbody tr th:only-of-type {\n",
       "        vertical-align: middle;\n",
       "    }\n",
       "\n",
       "    .dataframe tbody tr th {\n",
       "        vertical-align: top;\n",
       "    }\n",
       "\n",
       "    .dataframe thead th {\n",
       "        text-align: right;\n",
       "    }\n",
       "</style>\n",
       "<table border=\"1\" class=\"dataframe\">\n",
       "  <thead>\n",
       "    <tr style=\"text-align: right;\">\n",
       "      <th></th>\n",
       "      <th>longitud</th>\n",
       "      <th>digitos</th>\n",
       "      <th>entropia</th>\n",
       "      <th>proporcionVocalesConsonantes</th>\n",
       "      <th>posicionPrimerDigito</th>\n",
       "    </tr>\n",
       "  </thead>\n",
       "  <tbody>\n",
       "    <tr>\n",
       "      <th>0</th>\n",
       "      <td>16</td>\n",
       "      <td>0</td>\n",
       "      <td>3.375000</td>\n",
       "      <td>0.500000</td>\n",
       "      <td>0</td>\n",
       "    </tr>\n",
       "    <tr>\n",
       "      <th>1</th>\n",
       "      <td>11</td>\n",
       "      <td>0</td>\n",
       "      <td>3.027169</td>\n",
       "      <td>0.428571</td>\n",
       "      <td>0</td>\n",
       "    </tr>\n",
       "    <tr>\n",
       "      <th>2</th>\n",
       "      <td>9</td>\n",
       "      <td>0</td>\n",
       "      <td>2.947703</td>\n",
       "      <td>0.600000</td>\n",
       "      <td>0</td>\n",
       "    </tr>\n",
       "    <tr>\n",
       "      <th>6</th>\n",
       "      <td>36</td>\n",
       "      <td>0</td>\n",
       "      <td>3.861052</td>\n",
       "      <td>0.600000</td>\n",
       "      <td>0</td>\n",
       "    </tr>\n",
       "    <tr>\n",
       "      <th>9</th>\n",
       "      <td>11</td>\n",
       "      <td>0</td>\n",
       "      <td>2.913977</td>\n",
       "      <td>0.666667</td>\n",
       "      <td>0</td>\n",
       "    </tr>\n",
       "  </tbody>\n",
       "</table>\n",
       "</div>"
      ],
      "text/plain": [
       "   longitud  digitos  entropia  proporcionVocalesConsonantes  \\\n",
       "0        16        0  3.375000                      0.500000   \n",
       "1        11        0  3.027169                      0.428571   \n",
       "2         9        0  2.947703                      0.600000   \n",
       "6        36        0  3.861052                      0.600000   \n",
       "9        11        0  2.913977                      0.666667   \n",
       "\n",
       "   posicionPrimerDigito  \n",
       "0                     0  \n",
       "1                     0  \n",
       "2                     0  \n",
       "6                     0  \n",
       "9                     0  "
      ]
     },
     "execution_count": 12,
     "metadata": {},
     "output_type": "execute_result"
    }
   ],
   "source": [
    "#Utilizamos el clasificador del laboratorio pasado. \n",
    "dfDS = pd.DataFrame()\n",
    "datos = filtrarUnicos['tld_flare']\n",
    "dfDS['longitud'] =  filtrarUnicos['tld_flare'].str.len()\n",
    "dfDS['digitos'] = filtrarUnicos['tld_flare'].str.count('[0-9]')\n",
    "dfDS['entropia'] = filtrarUnicos['tld_flare'].apply(H_entropy)\n",
    "dfDS['proporcionVocalesConsonantes'] = filtrarUnicos['tld_flare'].apply(proporcionVocalesConsonantes)\n",
    "dfDS['posicionPrimerDigito'] = filtrarUnicos['tld_flare'].apply(posicionPrimerDigito)\n",
    "\n",
    "#Observamos nuestro nuevo dataset. \n",
    "dfDS.head(5)"
   ]
  },
  {
   "cell_type": "code",
   "execution_count": 13,
   "id": "adeffc11-37d8-48b3-a9dd-da5f14a2311f",
   "metadata": {},
   "outputs": [
    {
     "name": "stderr",
     "output_type": "stream",
     "text": [
      "C:\\Users\\alexa\\anaconda3\\lib\\site-packages\\sklearn\\base.py:310: UserWarning: Trying to unpickle estimator DecisionTreeClassifier from version 1.0.2 when using version 0.24.1. This might lead to breaking code or invalid results. Use at your own risk.\n",
      "  warnings.warn(\n"
     ]
    }
   ],
   "source": [
    "#Cargamos nuestro modelo del laboratorio pasado. \n",
    "modelo = load('modelo1.joblib')\n",
    "resultados = modelo.predict(dfDS)"
   ]
  },
  {
   "cell_type": "code",
   "execution_count": 14,
   "id": "5ca168b1-422b-4fa4-836a-ee79b1327658",
   "metadata": {},
   "outputs": [],
   "source": [
    "#Función para filtrar los registros.\n",
    "registrosFil = []\n",
    "for i in resultados:\n",
    "    if i == 0:\n",
    "        registrosFil.append(False)\n",
    "    else:\n",
    "        registrosFil.append(True)"
   ]
  },
  {
   "cell_type": "code",
   "execution_count": 15,
   "id": "47ce6e70-8d77-4da8-a2b2-1b63b372066e",
   "metadata": {},
   "outputs": [
    {
     "name": "stdout",
     "output_type": "stream",
     "text": [
      "Registros filtrados:\n"
     ]
    },
    {
     "data": {
      "text/plain": [
       "6                  safebrowsing.clients.google.com.home\n",
       "163                            192.168.22.110phpmyadmin\n",
       "191         safebrowsing.clients.google.com.localdomain\n",
       "293                192.168.22.110phpmyadmin.localdomain\n",
       "363                                       ntkrnlpa.info\n",
       "463                                     portswigger.net\n",
       "583                                      sql-ledger.org\n",
       "648                                 backtrack-linux.org\n",
       "796      safebrowsing.clients.google.com.hackerlabs.vpn\n",
       "828                                      phpmyadmin.net\n",
       "887                                      postgresql.org\n",
       "996              secure.informaction.com.hackerlabs.vpn\n",
       "1072                safebrowsing.clients.google.com.lan\n",
       "1195                                   \"192.168.206.56\"\n",
       "1398                                  windowsupdate.com\n",
       "1836                                    192.168.26-27.0\n",
       "2182                                       fastserv.com\n",
       "2235                                      liquidweb.com\n",
       "2255                                       fastserv.com\n",
       "2485                                     team-cymru.org\n",
       "6898                                    192.168.21.1201\n",
       "7963                                       msftncsi.com\n",
       "8026                                       msftncsi.com\n",
       "9856                               vtlfccmfxlkgifuf.com\n",
       "9979                                    1922.168.22.254\n",
       "10048                              1922.168.22.254.home\n",
       "10607                                   192.168.21-28.0\n",
       "10646                              ejfodfmfxlkgifuf.xyz\n",
       "14730                              192.168.21-28.0.home\n",
       "15507                                   192.168.22.201:\n",
       "15716                    192.168.22.201:.stayonline.net\n",
       "Name: tld_flare, dtype: object"
      ]
     },
     "execution_count": 15,
     "metadata": {},
     "output_type": "execute_result"
    }
   ],
   "source": [
    "print(\"Registros filtrados:\")\n",
    "filtrarUnicos[registrosFil]['tld_flare']"
   ]
  },
  {
   "cell_type": "code",
   "execution_count": 16,
   "id": "d1d48543-c563-46e8-a268-9eb73e89ee84",
   "metadata": {},
   "outputs": [
    {
     "name": "stdout",
     "output_type": "stream",
     "text": [
      "[*] Initializing... training classifier - Please wait.\n",
      "[+] Training classifier on training set\n"
     ]
    },
    {
     "name": "stderr",
     "output_type": "stream",
     "text": [
      "C:\\Users\\alexa\\anaconda3\\lib\\site-packages\\sklearn\\ensemble\\_forest.py:541: UserWarning: Some inputs do not have OOB scores. This probably means too few trees were used to compute any reliable oob estimates.\n",
      "  warn(\"Some inputs do not have OOB scores. \"\n",
      "C:\\Users\\alexa\\anaconda3\\lib\\site-packages\\sklearn\\ensemble\\_forest.py:545: RuntimeWarning: invalid value encountered in true_divide\n",
      "  decision = (predictions[k] /\n"
     ]
    },
    {
     "name": "stdout",
     "output_type": "stream",
     "text": [
      "[+] Out of sample legit f1 score 0.9990142460736473\n",
      "[+] Out of sample dga f1 score 0.6287978863936592\n",
      "[+] Training final classifier\n"
     ]
    },
    {
     "name": "stderr",
     "output_type": "stream",
     "text": [
      "C:\\Users\\alexa\\anaconda3\\lib\\site-packages\\sklearn\\ensemble\\_forest.py:541: UserWarning: Some inputs do not have OOB scores. This probably means too few trees were used to compute any reliable oob estimates.\n",
      "  warn(\"Some inputs do not have OOB scores. \"\n",
      "C:\\Users\\alexa\\anaconda3\\lib\\site-packages\\sklearn\\ensemble\\_forest.py:545: RuntimeWarning: invalid value encountered in true_divide\n",
      "  decision = (predictions[k] /\n"
     ]
    },
    {
     "name": "stdout",
     "output_type": "stream",
     "text": [
      "[+] Classifier Ready\n"
     ]
    }
   ],
   "source": [
    "#Implementamos DGA con Flare.\n",
    "from features import dga_classifier\n",
    "dga = dga_classifier()"
   ]
  },
  {
   "cell_type": "code",
   "execution_count": 17,
   "id": "6b86fdd3-1260-4a65-9e2f-68afa46a399f",
   "metadata": {},
   "outputs": [
    {
     "name": "stderr",
     "output_type": "stream",
     "text": [
      "<ipython-input-17-3164a597bd5a>:2: SettingWithCopyWarning: \n",
      "A value is trying to be set on a copy of a slice from a DataFrame.\n",
      "Try using .loc[row_indexer,col_indexer] = value instead\n",
      "\n",
      "See the caveats in the documentation: https://pandas.pydata.org/pandas-docs/stable/user_guide/indexing.html#returning-a-view-versus-a-copy\n",
      "  filtrarUnicos['tlds'] = filtrarUnicos['tld_flare'].apply(dga.predict)\n"
     ]
    },
    {
     "data": {
      "text/plain": [
       "1195         \"192.168.206.56\"\n",
       "7963             msftncsi.com\n",
       "8026             msftncsi.com\n",
       "9856     vtlfccmfxlkgifuf.com\n",
       "10048    1922.168.22.254.home\n",
       "10646    ejfodfmfxlkgifuf.xyz\n",
       "Name: tld_flare, dtype: object"
      ]
     },
     "execution_count": 17,
     "metadata": {},
     "output_type": "execute_result"
    }
   ],
   "source": [
    "#Filtramos los dominios clasificados como DGA.\n",
    "filtrarUnicos['tlds'] = filtrarUnicos['tld_flare'].apply(dga.predict)\n",
    "filtrarUnicos[filtrarUnicos['tlds'] == 'dga']['tld_flare']"
   ]
  },
  {
   "cell_type": "markdown",
   "id": "94533092-d45a-4303-8f5d-93dcc656203e",
   "metadata": {},
   "source": [
    "**¿Son los mismos dominios que los de su modelo?**  \n",
    "Si los cinco registros que se obtuvieron al utilizar el modelo de DGA con Flare, se encuentran en la lista de registros filtrados por el modelo del laboratorio pasado. "
   ]
  },
  {
   "cell_type": "markdown",
   "id": "91fec300-cfaa-4f1e-89b8-67085343903c",
   "metadata": {},
   "source": [
    "### PARTE 3 - Dominio Experto "
   ]
  },
  {
   "cell_type": "code",
   "execution_count": 18,
   "id": "4968238e-1a4b-442c-9a12-2e4a155aec57",
   "metadata": {},
   "outputs": [
    {
     "name": "stdout",
     "output_type": "stream",
     "text": [
      "[+] Updated Umbrella Top 1 Million list...\n"
     ]
    }
   ],
   "source": [
    "from umbrella import *\n",
    "umbrellaCisco = Umbrella(limit= 1000000)"
   ]
  },
  {
   "cell_type": "code",
   "execution_count": 21,
   "id": "a89e9354-a860-4bda-8afc-ea069b013dfa",
   "metadata": {},
   "outputs": [
    {
     "name": "stdout",
     "output_type": "stream",
     "text": [
      "\"192.168.206.56\"  =  False\n",
      "msftncsi.com  =  True\n",
      "msftncsi.com  =  True\n",
      "vtlfccmfxlkgifuf.com  =  False\n",
      "1922.168.22.254.home  =  False\n",
      "ejfodfmfxlkgifuf.xyz  =  False\n"
     ]
    }
   ],
   "source": [
    "for tlds in filtrarUnicos[filtrarUnicos['tlds'] == 'dga']['tld_flare']:\n",
    "    print(tlds, ' = ', umbrellaCisco.domain_tld_in_umbrella(tlds))"
   ]
  },
  {
   "cell_type": "code",
   "execution_count": 22,
   "id": "77fb7c3a-1cc2-4e47-a080-04b2b0d0941e",
   "metadata": {},
   "outputs": [
    {
     "name": "stdout",
     "output_type": "stream",
     "text": [
      "\"192.168.206.56\"  =  None\n",
      "msftncsi.com  =  [datetime.datetime(2005, 11, 10, 22, 6, 51), datetime.datetime(2005, 11, 10, 17, 6, 51)]\n",
      "msftncsi.com  =  [datetime.datetime(2005, 11, 10, 22, 6, 51), datetime.datetime(2005, 11, 10, 17, 6, 51)]\n"
     ]
    },
    {
     "ename": "PywhoisError",
     "evalue": "No match for \"VTLFCCMFXLKGIFUF.COM\".\r\n>>> Last update of whois database: 2022-05-04T15:12:36Z <<<\r\n\r\nNOTICE: The expiration date displayed in this record is the date the\r\nregistrar's sponsorship of the domain name registration in the registry is\r\ncurrently set to expire. This date does not necessarily reflect the expiration\r\ndate of the domain name registrant's agreement with the sponsoring\r\nregistrar.  Users may consult the sponsoring registrar's Whois database to\r\nview the registrar's reported date of expiration for this registration.\r\n\r\nTERMS OF USE: You are not authorized to access or query our Whois\r\ndatabase through the use of electronic processes that are high-volume and\r\nautomated except as reasonably necessary to register domain names or\r\nmodify existing registrations; the Data in VeriSign Global Registry\r\nServices' (\"VeriSign\") Whois database is provided by VeriSign for\r\ninformation purposes only, and to assist persons in obtaining information\r\nabout or related to a domain name registration record. VeriSign does not\r\nguarantee its accuracy. By submitting a Whois query, you agree to abide\r\nby the following terms of use: You agree that you may use this Data only\r\nfor lawful purposes and that under no circumstances will you use this Data\r\nto: (1) allow, enable, or otherwise support the transmission of mass\r\nunsolicited, commercial advertising or solicitations via e-mail, telephone,\r\nor facsimile; or (2) enable high volume, automated, electronic processes\r\nthat apply to VeriSign (or its computer systems). The compilation,\r\nrepackaging, dissemination or other use of this Data is expressly\r\nprohibited without the prior written consent of VeriSign. You agree not to\r\nuse electronic processes that are automated and high-volume to access or\r\nquery the Whois database except as reasonably necessary to register\r\ndomain names or modify existing registrations. VeriSign reserves the right\r\nto restrict your access to the Whois database in its sole discretion to ensure\r\noperational stability.  VeriSign may restrict or terminate your access to the\r\nWhois database for failure to abide by these terms of use. VeriSign\r\nreserves the right to modify these terms at any time.\r\n\r\nThe Registry database contains ONLY .COM, .NET, .EDU domains and\r\nRegistrars.\r\n",
     "output_type": "error",
     "traceback": [
      "\u001b[1;31m---------------------------------------------------------------------------\u001b[0m",
      "\u001b[1;31mPywhoisError\u001b[0m                              Traceback (most recent call last)",
      "\u001b[1;32m<ipython-input-22-4e8a6285809c>\u001b[0m in \u001b[0;36m<module>\u001b[1;34m\u001b[0m\n\u001b[0;32m      1\u001b[0m \u001b[1;32mfor\u001b[0m \u001b[0mtlds\u001b[0m \u001b[1;32min\u001b[0m \u001b[0mfiltrarUnicos\u001b[0m\u001b[1;33m[\u001b[0m\u001b[0mfiltrarUnicos\u001b[0m\u001b[1;33m[\u001b[0m\u001b[1;34m'tlds'\u001b[0m\u001b[1;33m]\u001b[0m \u001b[1;33m==\u001b[0m \u001b[1;34m'dga'\u001b[0m\u001b[1;33m]\u001b[0m\u001b[1;33m[\u001b[0m\u001b[1;34m'tld_flare'\u001b[0m\u001b[1;33m]\u001b[0m\u001b[1;33m:\u001b[0m\u001b[1;33m\u001b[0m\u001b[1;33m\u001b[0m\u001b[0m\n\u001b[1;32m----> 2\u001b[1;33m     \u001b[0mprint\u001b[0m\u001b[1;33m(\u001b[0m\u001b[0mtlds\u001b[0m\u001b[1;33m,\u001b[0m \u001b[1;34m' = '\u001b[0m\u001b[1;33m,\u001b[0m \u001b[0mwhois\u001b[0m\u001b[1;33m.\u001b[0m\u001b[0mwhois\u001b[0m\u001b[1;33m(\u001b[0m\u001b[0mtlds\u001b[0m\u001b[1;33m)\u001b[0m\u001b[1;33m.\u001b[0m\u001b[0mcreation_date\u001b[0m\u001b[1;33m)\u001b[0m\u001b[1;33m\u001b[0m\u001b[1;33m\u001b[0m\u001b[0m\n\u001b[0m",
      "\u001b[1;32m~\\anaconda3\\lib\\site-packages\\whois\\__init__.py\u001b[0m in \u001b[0;36mwhois\u001b[1;34m(url, command, flags)\u001b[0m\n\u001b[0;32m     42\u001b[0m         \u001b[0mnic_client\u001b[0m \u001b[1;33m=\u001b[0m \u001b[0mNICClient\u001b[0m\u001b[1;33m(\u001b[0m\u001b[1;33m)\u001b[0m\u001b[1;33m\u001b[0m\u001b[1;33m\u001b[0m\u001b[0m\n\u001b[0;32m     43\u001b[0m         \u001b[0mtext\u001b[0m \u001b[1;33m=\u001b[0m \u001b[0mnic_client\u001b[0m\u001b[1;33m.\u001b[0m\u001b[0mwhois_lookup\u001b[0m\u001b[1;33m(\u001b[0m\u001b[1;32mNone\u001b[0m\u001b[1;33m,\u001b[0m \u001b[0mdomain\u001b[0m\u001b[1;33m.\u001b[0m\u001b[0mencode\u001b[0m\u001b[1;33m(\u001b[0m\u001b[1;34m'idna'\u001b[0m\u001b[1;33m)\u001b[0m\u001b[1;33m,\u001b[0m \u001b[0mflags\u001b[0m\u001b[1;33m)\u001b[0m\u001b[1;33m\u001b[0m\u001b[1;33m\u001b[0m\u001b[0m\n\u001b[1;32m---> 44\u001b[1;33m     \u001b[1;32mreturn\u001b[0m \u001b[0mWhoisEntry\u001b[0m\u001b[1;33m.\u001b[0m\u001b[0mload\u001b[0m\u001b[1;33m(\u001b[0m\u001b[0mdomain\u001b[0m\u001b[1;33m,\u001b[0m \u001b[0mtext\u001b[0m\u001b[1;33m)\u001b[0m\u001b[1;33m\u001b[0m\u001b[1;33m\u001b[0m\u001b[0m\n\u001b[0m\u001b[0;32m     45\u001b[0m \u001b[1;33m\u001b[0m\u001b[0m\n\u001b[0;32m     46\u001b[0m \u001b[1;33m\u001b[0m\u001b[0m\n",
      "\u001b[1;32m~\\anaconda3\\lib\\site-packages\\whois\\parser.py\u001b[0m in \u001b[0;36mload\u001b[1;34m(domain, text)\u001b[0m\n\u001b[0;32m    186\u001b[0m \u001b[1;33m\u001b[0m\u001b[0m\n\u001b[0;32m    187\u001b[0m         \u001b[1;32mif\u001b[0m \u001b[0mdomain\u001b[0m\u001b[1;33m.\u001b[0m\u001b[0mendswith\u001b[0m\u001b[1;33m(\u001b[0m\u001b[1;34m'.com'\u001b[0m\u001b[1;33m)\u001b[0m\u001b[1;33m:\u001b[0m\u001b[1;33m\u001b[0m\u001b[1;33m\u001b[0m\u001b[0m\n\u001b[1;32m--> 188\u001b[1;33m             \u001b[1;32mreturn\u001b[0m \u001b[0mWhoisCom\u001b[0m\u001b[1;33m(\u001b[0m\u001b[0mdomain\u001b[0m\u001b[1;33m,\u001b[0m \u001b[0mtext\u001b[0m\u001b[1;33m)\u001b[0m\u001b[1;33m\u001b[0m\u001b[1;33m\u001b[0m\u001b[0m\n\u001b[0m\u001b[0;32m    189\u001b[0m         \u001b[1;32melif\u001b[0m \u001b[0mdomain\u001b[0m\u001b[1;33m.\u001b[0m\u001b[0mendswith\u001b[0m\u001b[1;33m(\u001b[0m\u001b[1;34m'.net'\u001b[0m\u001b[1;33m)\u001b[0m\u001b[1;33m:\u001b[0m\u001b[1;33m\u001b[0m\u001b[1;33m\u001b[0m\u001b[0m\n\u001b[0;32m    190\u001b[0m             \u001b[1;32mreturn\u001b[0m \u001b[0mWhoisNet\u001b[0m\u001b[1;33m(\u001b[0m\u001b[0mdomain\u001b[0m\u001b[1;33m,\u001b[0m \u001b[0mtext\u001b[0m\u001b[1;33m)\u001b[0m\u001b[1;33m\u001b[0m\u001b[1;33m\u001b[0m\u001b[0m\n",
      "\u001b[1;32m~\\anaconda3\\lib\\site-packages\\whois\\parser.py\u001b[0m in \u001b[0;36m__init__\u001b[1;34m(self, domain, text)\u001b[0m\n\u001b[0;32m    399\u001b[0m     \u001b[1;32mdef\u001b[0m \u001b[0m__init__\u001b[0m\u001b[1;33m(\u001b[0m\u001b[0mself\u001b[0m\u001b[1;33m,\u001b[0m \u001b[0mdomain\u001b[0m\u001b[1;33m,\u001b[0m \u001b[0mtext\u001b[0m\u001b[1;33m)\u001b[0m\u001b[1;33m:\u001b[0m\u001b[1;33m\u001b[0m\u001b[1;33m\u001b[0m\u001b[0m\n\u001b[0;32m    400\u001b[0m         \u001b[1;32mif\u001b[0m \u001b[1;34m'No match for \"'\u001b[0m \u001b[1;32min\u001b[0m \u001b[0mtext\u001b[0m\u001b[1;33m:\u001b[0m\u001b[1;33m\u001b[0m\u001b[1;33m\u001b[0m\u001b[0m\n\u001b[1;32m--> 401\u001b[1;33m             \u001b[1;32mraise\u001b[0m \u001b[0mPywhoisError\u001b[0m\u001b[1;33m(\u001b[0m\u001b[0mtext\u001b[0m\u001b[1;33m)\u001b[0m\u001b[1;33m\u001b[0m\u001b[1;33m\u001b[0m\u001b[0m\n\u001b[0m\u001b[0;32m    402\u001b[0m         \u001b[1;32melse\u001b[0m\u001b[1;33m:\u001b[0m\u001b[1;33m\u001b[0m\u001b[1;33m\u001b[0m\u001b[0m\n\u001b[0;32m    403\u001b[0m             \u001b[0mWhoisEntry\u001b[0m\u001b[1;33m.\u001b[0m\u001b[0m__init__\u001b[0m\u001b[1;33m(\u001b[0m\u001b[0mself\u001b[0m\u001b[1;33m,\u001b[0m \u001b[0mdomain\u001b[0m\u001b[1;33m,\u001b[0m \u001b[0mtext\u001b[0m\u001b[1;33m)\u001b[0m\u001b[1;33m\u001b[0m\u001b[1;33m\u001b[0m\u001b[0m\n",
      "\u001b[1;31mPywhoisError\u001b[0m: No match for \"VTLFCCMFXLKGIFUF.COM\".\r\n>>> Last update of whois database: 2022-05-04T15:12:36Z <<<\r\n\r\nNOTICE: The expiration date displayed in this record is the date the\r\nregistrar's sponsorship of the domain name registration in the registry is\r\ncurrently set to expire. This date does not necessarily reflect the expiration\r\ndate of the domain name registrant's agreement with the sponsoring\r\nregistrar.  Users may consult the sponsoring registrar's Whois database to\r\nview the registrar's reported date of expiration for this registration.\r\n\r\nTERMS OF USE: You are not authorized to access or query our Whois\r\ndatabase through the use of electronic processes that are high-volume and\r\nautomated except as reasonably necessary to register domain names or\r\nmodify existing registrations; the Data in VeriSign Global Registry\r\nServices' (\"VeriSign\") Whois database is provided by VeriSign for\r\ninformation purposes only, and to assist persons in obtaining information\r\nabout or related to a domain name registration record. VeriSign does not\r\nguarantee its accuracy. By submitting a Whois query, you agree to abide\r\nby the following terms of use: You agree that you may use this Data only\r\nfor lawful purposes and that under no circumstances will you use this Data\r\nto: (1) allow, enable, or otherwise support the transmission of mass\r\nunsolicited, commercial advertising or solicitations via e-mail, telephone,\r\nor facsimile; or (2) enable high volume, automated, electronic processes\r\nthat apply to VeriSign (or its computer systems). The compilation,\r\nrepackaging, dissemination or other use of this Data is expressly\r\nprohibited without the prior written consent of VeriSign. You agree not to\r\nuse electronic processes that are automated and high-volume to access or\r\nquery the Whois database except as reasonably necessary to register\r\ndomain names or modify existing registrations. VeriSign reserves the right\r\nto restrict your access to the Whois database in its sole discretion to ensure\r\noperational stability.  VeriSign may restrict or terminate your access to the\r\nWhois database for failure to abide by these terms of use. VeriSign\r\nreserves the right to modify these terms at any time.\r\n\r\nThe Registry database contains ONLY .COM, .NET, .EDU domains and\r\nRegistrars.\r\n"
     ]
    }
   ],
   "source": [
    "for tlds in filtrarUnicos[filtrarUnicos['tlds'] == 'dga']['tld_flare']:\n",
    "    print(tlds, ' = ', whois.whois(tlds).creation_date)"
   ]
  },
  {
   "cell_type": "markdown",
   "id": "dc9f5ab7-707b-46f9-8e0e-fde955137450",
   "metadata": {},
   "source": [
    "**¿Cuáles son los dominios que podemos confirmar como sospechosos?**\n",
    "A mi punto de vista los registros sospechosos, como podemos observar en los resultados, son los que no estan en Cisco Umbrella, que son los mismos que no tienen fecha de creación, que en este caso son *192.168.206.56, vtlfccmfxlkgifuf.com, 1922.168.22.254.home y ejfodfmfxlkgifuf.xyz*."
   ]
  }
 ],
 "metadata": {
  "kernelspec": {
   "display_name": "Python 3",
   "language": "python",
   "name": "python3"
  },
  "language_info": {
   "codemirror_mode": {
    "name": "ipython",
    "version": 3
   },
   "file_extension": ".py",
   "mimetype": "text/x-python",
   "name": "python",
   "nbconvert_exporter": "python",
   "pygments_lexer": "ipython3",
   "version": "3.8.8"
  }
 },
 "nbformat": 4,
 "nbformat_minor": 5
}
